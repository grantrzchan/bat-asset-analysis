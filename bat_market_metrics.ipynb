{
 "cells": [
  {
   "cell_type": "markdown",
   "metadata": {},
   "source": [
    "## Market metrics analysis\n",
    "\n",
    "- Let's evaluate some of the key market metrics of Basic Attention Token (BAT) versus its more established counterparts, such as Bitcoin (BTC) and Ethereum (ETH). But first, let's look at what is available in terms of market and profile metrics for BAT:"
   ]
  },
  {
   "cell_type": "code",
   "execution_count": 9,
   "metadata": {},
   "outputs": [],
   "source": [
    "import json\n",
    "import matplotlib.pyplot as plt\n",
    "import seaborn as sns\n",
    "import numpy as np\n",
    "import pandas as pd\n",
    "\n",
    "#parson json file\n",
    "with open('assets_data.json') as f:\n",
    "    assets_data = json.load(f)"
   ]
  },
  {
   "cell_type": "code",
   "execution_count": 39,
   "metadata": {},
   "outputs": [
    {
     "output_type": "execute_result",
     "data": {
      "text/plain": "  ticker                                            metrics  \\\n0    BTC  {'id': '1e31218a-e44e-4285-820c-8282ee222035',...   \n1    ETH  {'id': '21c795f5-1bfd-40c3-858e-e9d7e820c6d0',...   \n2    BAT  {'id': '4db01dd4-686b-4bdc-a143-06b616101b39',...   \n\n                                             profile  \\\n0  {'id': '1e31218a-e44e-4285-820c-8282ee222035',...   \n1  {'id': '21c795f5-1bfd-40c3-858e-e9d7e820c6d0',...   \n2  {'id': '4db01dd4-686b-4bdc-a143-06b616101b39',...   \n\n                                         time_series  \n0  {'id': '1e31218a-e44e-4285-820c-8282ee222035',...  \n1  {'id': '21c795f5-1bfd-40c3-858e-e9d7e820c6d0',...  \n2  {'id': '4db01dd4-686b-4bdc-a143-06b616101b39',...  ",
      "text/html": "<div>\n<style scoped>\n    .dataframe tbody tr th:only-of-type {\n        vertical-align: middle;\n    }\n\n    .dataframe tbody tr th {\n        vertical-align: top;\n    }\n\n    .dataframe thead th {\n        text-align: right;\n    }\n</style>\n<table border=\"1\" class=\"dataframe\">\n  <thead>\n    <tr style=\"text-align: right;\">\n      <th></th>\n      <th>ticker</th>\n      <th>metrics</th>\n      <th>profile</th>\n      <th>time_series</th>\n    </tr>\n  </thead>\n  <tbody>\n    <tr>\n      <th>0</th>\n      <td>BTC</td>\n      <td>{'id': '1e31218a-e44e-4285-820c-8282ee222035',...</td>\n      <td>{'id': '1e31218a-e44e-4285-820c-8282ee222035',...</td>\n      <td>{'id': '1e31218a-e44e-4285-820c-8282ee222035',...</td>\n    </tr>\n    <tr>\n      <th>1</th>\n      <td>ETH</td>\n      <td>{'id': '21c795f5-1bfd-40c3-858e-e9d7e820c6d0',...</td>\n      <td>{'id': '21c795f5-1bfd-40c3-858e-e9d7e820c6d0',...</td>\n      <td>{'id': '21c795f5-1bfd-40c3-858e-e9d7e820c6d0',...</td>\n    </tr>\n    <tr>\n      <th>2</th>\n      <td>BAT</td>\n      <td>{'id': '4db01dd4-686b-4bdc-a143-06b616101b39',...</td>\n      <td>{'id': '4db01dd4-686b-4bdc-a143-06b616101b39',...</td>\n      <td>{'id': '4db01dd4-686b-4bdc-a143-06b616101b39',...</td>\n    </tr>\n  </tbody>\n</table>\n</div>"
     },
     "metadata": {},
     "execution_count": 39
    }
   ],
   "source": [
    "#load assets data into a pandas dataframe\n",
    "assets = pd.DataFrame(assets)\n",
    "assets"
   ]
  },
  {
   "cell_type": "markdown",
   "metadata": {},
   "source": [
    "- We see that the metrics and profile dictionaries for each ticker is stored in an individual field. Let's take a look at the columns for metrics and profile dicts for BAT:"
   ]
  },
  {
   "cell_type": "code",
   "execution_count": 44,
   "metadata": {},
   "outputs": [],
   "source": [
    "bat_metrics_dict = assets['metrics'].iloc[2].copy()\n",
    "bat_profile_dict = assets['profile'].iloc[2].copy()"
   ]
  },
  {
   "cell_type": "code",
   "execution_count": 52,
   "metadata": {
    "tags": []
   },
   "outputs": [
    {
     "output_type": "stream",
     "name": "stdout",
     "text": "Available metrics: ['id', 'symbol', 'name', 'slug', '_internal_temp_agora_id', 'market_data', 'marketcap', 'supply', 'blockchain_stats_24_hours', 'market_data_liquidity', 'all_time_high', 'cycle_low', 'token_sale_stats', 'staking_stats', 'mining_stats', 'developer_activity', 'roi_data', 'roi_by_year', 'risk_metrics', 'misc_data', 'lend_rates', 'borrow_rates', 'loan_data', 'reddit', 'on_chain_data', 'exchange_flows', 'alert_messages']\n\nAvailable profile details: ['id', 'symbol', 'name', 'slug', '_internal_temp_agora_id', 'is_verified', 'tagline', 'overview', 'background', 'technology', 'category', 'sector', 'tag', 'sfarScore', 'token_distribution', 'token_details', 'organizations', 'people', 'relevant_resources', 'consensus_algorithm']\n"
    }
   ],
   "source": [
    "print(f'Available metrics: {list(bat_metrics_dict.keys())}', sep='\\n')\n",
    "print()\n",
    "print(f'Available profile details: {list(bat_profile_dict.keys())}', sep='\\n')"
   ]
  },
  {
   "cell_type": "markdown",
   "metadata": {},
   "source": [
    "- We see that the data available in the metrics dictionary is most relevant to our analytical objectives. We should come up with a few research questions to decide which metrics should be used."
   ]
  },
  {
   "cell_type": "code",
   "execution_count": null,
   "metadata": {},
   "outputs": [],
   "source": []
  }
 ],
 "metadata": {
  "language_info": {
   "codemirror_mode": {
    "name": "ipython",
    "version": 3
   },
   "file_extension": ".py",
   "mimetype": "text/x-python",
   "name": "python",
   "nbconvert_exporter": "python",
   "pygments_lexer": "ipython3",
   "version": "3.8.3-final"
  },
  "orig_nbformat": 2,
  "kernelspec": {
   "name": "python38364bit8c55d548c5834f17868e46122ff14967",
   "display_name": "Python 3.8.3 64-bit"
  }
 },
 "nbformat": 4,
 "nbformat_minor": 2
}